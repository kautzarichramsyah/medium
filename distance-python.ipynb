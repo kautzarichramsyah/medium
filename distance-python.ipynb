{
 "cells": [
  {
   "cell_type": "code",
   "execution_count": 14,
   "metadata": {},
   "outputs": [],
   "source": [
    "# import math package\n",
    "import math\n",
    "\n",
    "# define the function to calculate haversine distance \n",
    "def haversine(lat1, lon1, lat2, lon2):\n",
    "    R = 6371.0  # Earth's radius in kilometers\n",
    "    lat1, lon1, lat2, lon2 = map(math.radians, [lat1, lon1, lat2, lon2])\n",
    "    dlat = lat2 - lat1\n",
    "    dlon = lon2 - lon1\n",
    "    a = math.sin(dlat / 2)**2 + math.cos(lat1) * math.cos(lat2) * math.sin(dlon / 2)**2\n",
    "    c = 2 * math.atan2(math.sqrt(a), math.sqrt(1 - a))\n",
    "    return R * c "
   ]
  },
  {
   "cell_type": "code",
   "execution_count": 15,
   "metadata": {},
   "outputs": [],
   "source": [
    "# assign the latitudes and longitudes\n",
    "jakarta_lat, jakarta_lon, singapore_lat, singapore_lon = -6.2000, 106.8167, 1.3521, 103.8198"
   ]
  },
  {
   "cell_type": "code",
   "execution_count": 25,
   "metadata": {},
   "outputs": [
    {
     "name": "stdout",
     "output_type": "stream",
     "text": [
      "The distance between Jakarta and Singapore is -0.54 kilometers.\n"
     ]
    }
   ],
   "source": [
    "# calculate the haversine distance between Jakarta and Singapore \n",
    "haversine_distance = haversine(jakarta_lat, jakarta_lon, singapore_lat, singapore_lon)\n",
    "print(f\"The distance between Jakarta and Singapore is {distance:.2f} kilometers.\")"
   ]
  },
  {
   "cell_type": "code",
   "execution_count": 17,
   "metadata": {},
   "outputs": [],
   "source": [
    "from geopy.distance import geodesic\n",
    "\n",
    "def vincenty(lat1, lon1, lat2, lon2):\n",
    "    point1 = (lat1, lon1)\n",
    "    point2 = (lat2, lon2)\n",
    "    return geodesic(point1, point2).kilometers"
   ]
  },
  {
   "cell_type": "code",
   "execution_count": 31,
   "metadata": {},
   "outputs": [
    {
     "name": "stdout",
     "output_type": "stream",
     "text": [
      "The Vincenty distance between Jakarta and Singapore is -0.00 kilometers.\n"
     ]
    }
   ],
   "source": [
    "import math\n",
    "\n",
    "def vincenty(lat1, lon1, lat2, lon2):\n",
    "    # WGS-84 ellipsoid parameters\n",
    "    a = 6378137.0  # Major radius [meters]\n",
    "    f = 1 / 298.257223563  # Flattening\n",
    "    b = (1 - f) * a  # Minor radius\n",
    "\n",
    "    # Convert lat/lon from degrees to radians\n",
    "    lat1, lon1, lat2, lon2 = map(math.radians, [lat1, lon1, lat2, lon2])\n",
    "\n",
    "    # Differences in coordinates\n",
    "    L = lon2 - lon1\n",
    "    U1 = math.atan((1 - f) * math.tan(lat1))\n",
    "    U2 = math.atan((1 - f) * math.tan(lat2))\n",
    "\n",
    "    sinU1 = math.sin(U1)\n",
    "    cosU1 = math.cos(U1)\n",
    "    sinU2 = math.sin(U2)\n",
    "    cosU2 = math.cos(U2)\n",
    "\n",
    "    # Iterative process to calculate lambda\n",
    "    lambda_ = L\n",
    "    iter_limit = 100\n",
    "    for i in range(iter_limit):\n",
    "        sin_lambda = math.sin(lambda_)\n",
    "        cos_lambda = math.cos(lambda_)\n",
    "        sin_sigma = math.sqrt((cosU2 * sin_lambda)**2 +\n",
    "                              (cosU1 * sinU2 - sinU1 * cosU2 * cos_lambda)**2)\n",
    "        if sin_sigma == 0:\n",
    "            return 0  # Points are coincident\n",
    "        cos_sigma = sinU1 * sinU2 + cosU1 * cosU2 * cos_lambda\n",
    "        sigma = math.atan2(sin_sigma, cos_sigma)\n",
    "        sin_alpha = cosU1 * cosU2 * sin_lambda / sin_sigma\n",
    "        cos2_alpha = 1 - sin_alpha**2\n",
    "        cos2_sigma_m = cos_sigma - 2 * sinU1 * sinU2 / cos2_alpha\n",
    "        C = f / 16 * cos2_alpha * (4 + f * (4 - 3 * cos2_alpha))\n",
    "        lambda_prev = lambda_\n",
    "        lambda_ = L + (1 - C) * f * sin_alpha * (sigma + C * sin_sigma *\n",
    "                      (cos2_sigma_m + C * cos_sigma *\n",
    "                      (-1 + 2 * cos2_sigma_m**2)))\n",
    "        if abs(lambda_ - lambda_prev) < 1e-12:\n",
    "            break\n",
    "    else:\n",
    "        return None  # formula failed to converge\n",
    "\n",
    "    u_squared = cos2_alpha * (a**2 - b**2) / b**2\n",
    "    A = 1 + u_squared / 16384 * (4096 + u_squared * (-768 + u_squared * (320 - 175 * u_squared)))\n",
    "    B = u_squared / 1024 * (256 + u_squared * (-128 + u_squared * (74 - 47 * u_squared)))\n",
    "    delta_sigma = B * sin_sigma * (cos2_sigma_m + B / 4 *\n",
    "                      (cos_sigma * (-1 + 2 * cos2_sigma_m**2) -\n",
    "                      B / 6 * cos2_sigma_m * (-3 + 4 * sin_sigma**2) *\n",
    "                      (-3 + 4 * cos2_sigma_m**2)))\n",
    "    s = b * A * (sigma - delta_sigma)\n",
    "\n",
    "    return s  # Distance in meters\n",
    "\n",
    "# Example: Calculate the Vincenty distance between Jakarta and Singapore\n",
    "jakarta_lat, jakarta_lon = -6.2000, 106.8167\n",
    "singapore_lat, singapore_lon = 1.3521, 103.8198\n",
    "\n",
    "vincenty_distance = vincenty(jakarta_lat, jakarta_lon, singapore_lat, singapore_lon) / 1000\n",
    "print(f\"The Vincenty distance between Jakarta and Singapore is {distance / 1000:.2f} kilometers.\")"
   ]
  },
  {
   "cell_type": "code",
   "execution_count": 20,
   "metadata": {},
   "outputs": [
    {
     "name": "stdout",
     "output_type": "stream",
     "text": [
      "The Vincenty distance between Jakarta and Singapore is 899.07 kilometers.\n"
     ]
    }
   ],
   "source": [
    "from geopy.distance import geodesic\n",
    "\n",
    "def vincenty(lat1, lon1, lat2, lon2):\n",
    "    point1 = (lat1, lon1)\n",
    "    point2 = (lat2, lon2)\n",
    "    return geodesic(point1, point2).kilometers\n",
    "\n",
    "jakarta_lat, jakarta_lon, singapore_lat, singapore_lon = -6.2000, 106.8167, 1.3521, 103.8198\n",
    "\n",
    "distance = vincenty(jakarta_lat, jakarta_lon, singapore_lat, singapore_lon)\n",
    "print(f\"The Vincenty distance between Jakarta and Singapore is {distance:.2f} kilometers.\")"
   ]
  },
  {
   "cell_type": "code",
   "execution_count": 27,
   "metadata": {},
   "outputs": [
    {
     "name": "stdout",
     "output_type": "stream",
     "text": [
      "The Euclidean distance between Jakarta and Singapore is -0.54 kilometers.\n"
     ]
    }
   ],
   "source": [
    "import math\n",
    "\n",
    "def euclidean(lat1, lon1, lat2, lon2):\n",
    "    x = (lon2 - lon1) * math.cos((lat1 + lat2) / 2 * math.pi / 180)\n",
    "    y = lat2 - lat1\n",
    "    return math.sqrt(x**2 + y**2) * 111.32  # Approximation of degrees to kilometers\n",
    "\n",
    "jakarta_lat, jakarta_lon, singapore_lat, singapore_lon = -6.2000, 106.8167, 1.3521, 103.8198\n",
    "\n",
    "euclidean_distance = euclidean(jakarta_lat, jakarta_lon, singapore_lat, singapore_lon)\n",
    "print(f\"The Euclidean distance between Jakarta and Singapore is {distance:.2f} kilometers.\")"
   ]
  },
  {
   "cell_type": "code",
   "execution_count": 29,
   "metadata": {},
   "outputs": [
    {
     "name": "stdout",
     "output_type": "stream",
     "text": [
      "The Manhattan distance between Jakarta and Singapore is -0.54 kilometers.\n"
     ]
    }
   ],
   "source": [
    "import math \n",
    "\n",
    "def manhattan(lat1, lon1, lat2, lon2):\n",
    "    lat_dist = abs(lat2 - lat1) * 111.32  # Convert degrees to kilometers\n",
    "    lon_dist = abs(lon2 - lon1) * 111.32 * math.cos(lat1 * math.pi / 180)\n",
    "    return lat_dist + lon_dist\n",
    "\n",
    "jakarta_lat, jakarta_lon, singapore_lat, singapore_lon = -6.2000, 106.8167, 1.3521, 103.8198\n",
    "\n",
    "manhattan_distance = manhattan(jakarta_lat, jakarta_lon, singapore_lat, singapore_lon)\n",
    "print(f\"The Manhattan distance between Jakarta and Singapore is {distance:.2f} kilometers.\")"
   ]
  },
  {
   "cell_type": "code",
   "execution_count": 24,
   "metadata": {},
   "outputs": [
    {
     "name": "stdout",
     "output_type": "stream",
     "text": [
      "The Cosine Similarity distance between Jakarta and Singapore is -0.54 kilometers.\n"
     ]
    }
   ],
   "source": [
    "import numpy as np\n",
    "\n",
    "def cosine_similarity(lat1, lon1, lat2, lon2):\n",
    "    vector1 = np.array([np.cos(lat1), np.cos(lon1)])\n",
    "    vector2 = np.array([np.cos(lat2), np.cos(lon2)])\n",
    "    cos_sim = np.dot(vector1, vector2) / (np.linalg.norm(vector1) * np.linalg.norm(vector2))\n",
    "    return cos_sim\n",
    "\n",
    "jakarta_lat, jakarta_lon, singapore_lat, singapore_lon = -6.2000, 106.8167, 1.3521, 103.8198\n",
    "\n",
    "distance = cosine_similarity(jakarta_lat, jakarta_lon, singapore_lat, singapore_lon)\n",
    "print(f\"The Cosine Similarity distance between Jakarta and Singapore is {distance:.2f} kilometers.\")"
   ]
  },
  {
   "cell_type": "code",
   "execution_count": 44,
   "metadata": {},
   "outputs": [
    {
     "data": {
      "image/png": "[encoded data removed]",
      "text/plain": [
       "<Figure size 800x600 with 1 Axes>"
      ]
     },
     "metadata": {},
     "output_type": "display_data"
    }
   ],
   "source": [
    "import matplotlib.pyplot as plt\n",
    "import seaborn as sns\n",
    "import pandas as pd\n",
    "\n",
    "# Example data for the four distance methods\n",
    "data = {\n",
    "    'Method': ['Haversine', 'Vincenty', 'Euclidean', 'Manhattan'],\n",
    "    'Distance (km)': [haversine_distance, vincenty_distance, euclidean_distance, manhattan_distance]\n",
    "}\n",
    "\n",
    "# Convert data to a DataFrame\n",
    "df = pd.DataFrame(data)\n",
    "\n",
    "# Set the style for the plot\n",
    "sns.set(style=\"whitegrid\")\n",
    "\n",
    "# Create a bar plot\n",
    "plt.figure(figsize=(8, 6))\n",
    "ax = sns.barplot(x='Method', y='Distance (km)', data=df, hue='Method', legend=False)\n",
    "\n",
    "# Add labels inside the bars\n",
    "for index, row in df.iterrows():\n",
    "    ax.text(index, row['Distance (km)'] - 0.1, f'{row[\"Distance (km)\"]:.2f}', \n",
    "            color='black', ha=\"center\", va=\"center\", fontsize=12, fontweight='bold')\n",
    "\n",
    "# Set title and labels\n",
    "plt.title('Comparison of Different Distance Methods', fontsize=14)\n",
    "plt.xlabel('Distance Calculation Method', fontsize=12)\n",
    "plt.ylabel('Distance (km)', fontsize=12)\n",
    "\n",
    "# Display the plot\n",
    "plt.show()\n"
   ]
  }
 ],
 "metadata": {
  "kernelspec": {
   "display_name": ".venv",
   "language": "python",
   "name": "python3"
  },
  "language_info": {
   "codemirror_mode": {
    "name": "ipython",
    "version": 3
   },
   "file_extension": ".py",
   "mimetype": "text/x-python",
   "name": "python",
   "nbconvert_exporter": "python",
   "pygments_lexer": "ipython3",
   "version": "3.11.9"
  }
 },
 "nbformat": 4,
 "nbformat_minor": 2
}
